{
 "cells": [
  {
   "cell_type": "markdown",
   "id": "48a71c0c",
   "metadata": {},
   "source": [
    "# =======================================================================================================\n",
    "# Exercises (5) START\n",
    "# =======================================================================================================\n"
   ]
  },
  {
   "cell_type": "markdown",
   "id": "a050af9c",
   "metadata": {},
   "source": [
    "### 1. Use matplotlib to plot the following equation:\n",
    "##### y=x^2 - x + 2\n",
    "##### You'll need to write the code that generates the x and y points.\n",
    "##### Add an anotation for the point 0, 0, the origin."
   ]
  },
  {
   "cell_type": "code",
   "execution_count": null,
   "id": "ea55cc10",
   "metadata": {},
   "outputs": [],
   "source": []
  },
  {
   "cell_type": "markdown",
   "id": "ff5fa5d2",
   "metadata": {},
   "source": [
    "### 2. Create and label 4 separate charts for the following equations (choose a range for x that makes sense):\n",
    "##### y=√x\n",
    "##### y=x^3\n",
    "##### y=2^x\n",
    "##### y=1/(x+1)\n",
    "##### You can use functions from the math module to help implement some of the equations above."
   ]
  },
  {
   "cell_type": "code",
   "execution_count": null,
   "id": "e3a1a1b5",
   "metadata": {},
   "outputs": [],
   "source": []
  },
  {
   "cell_type": "code",
   "execution_count": null,
   "id": "84b5cc6a",
   "metadata": {},
   "outputs": [],
   "source": []
  },
  {
   "cell_type": "code",
   "execution_count": null,
   "id": "b7f33e0f",
   "metadata": {},
   "outputs": [],
   "source": []
  },
  {
   "cell_type": "code",
   "execution_count": null,
   "id": "fd6915df",
   "metadata": {},
   "outputs": [],
   "source": []
  },
  {
   "cell_type": "markdown",
   "id": "05e0381f",
   "metadata": {},
   "source": [
    "### 3. Combine the figures you created in the last step into one large figure with 4 subplots."
   ]
  },
  {
   "cell_type": "code",
   "execution_count": null,
   "id": "21dd3a1b",
   "metadata": {},
   "outputs": [],
   "source": []
  },
  {
   "cell_type": "markdown",
   "id": "34a78516",
   "metadata": {},
   "source": [
    "### 4. Combine the figures you created in the last step into one figure where each of the 4 equations has a different color for the points. Be sure to include a legend and an appropriate title for the figure."
   ]
  },
  {
   "cell_type": "code",
   "execution_count": null,
   "id": "64267321",
   "metadata": {},
   "outputs": [],
   "source": []
  },
  {
   "cell_type": "markdown",
   "id": "4cf55249",
   "metadata": {},
   "source": [
    "### 5. Combine the figures you created in the last step into one figure where each of the 4 equations has a different color for the points. Be sure to include a legend and an appropriate title for the figure."
   ]
  },
  {
   "cell_type": "code",
   "execution_count": null,
   "id": "0ddad0d8",
   "metadata": {},
   "outputs": [],
   "source": []
  },
  {
   "cell_type": "markdown",
   "id": "1be81cc2",
   "metadata": {},
   "source": [
    "# =======================================================================================================\n",
    "# Exercises (5) END\n",
    "# Exercises (5) TO Exercises Bonus (2)\n",
    "# Exercises Bonus (2) START\n",
    "# =======================================================================================================\n"
   ]
  },
  {
   "cell_type": "markdown",
   "id": "3dce040f",
   "metadata": {},
   "source": [
    "### Write the code necessary to write your name on a chart. Use box letters."
   ]
  },
  {
   "cell_type": "code",
   "execution_count": null,
   "id": "f7581ddd",
   "metadata": {},
   "outputs": [],
   "source": []
  },
  {
   "cell_type": "markdown",
   "id": "d9666a9f",
   "metadata": {},
   "source": [
    "### use curves for letters in your name that have curves in them."
   ]
  },
  {
   "cell_type": "code",
   "execution_count": null,
   "id": "de106c2b",
   "metadata": {},
   "outputs": [],
   "source": []
  },
  {
   "cell_type": "markdown",
   "id": "b422ca2f",
   "metadata": {},
   "source": [
    "# =======================================================================================================\n",
    "# Exercises Bonus (2) END\n",
    "# ======================================================================================================="
   ]
  }
 ],
 "metadata": {
  "kernelspec": {
   "display_name": "Python 3 (ipykernel)",
   "language": "python",
   "name": "python3"
  },
  "language_info": {
   "codemirror_mode": {
    "name": "ipython",
    "version": 3
   },
   "file_extension": ".py",
   "mimetype": "text/x-python",
   "name": "python",
   "nbconvert_exporter": "python",
   "pygments_lexer": "ipython3",
   "version": "3.9.13"
  }
 },
 "nbformat": 4,
 "nbformat_minor": 5
}
