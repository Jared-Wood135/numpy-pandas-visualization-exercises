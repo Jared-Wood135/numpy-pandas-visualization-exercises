{
 "cells": [
  {
   "cell_type": "markdown",
   "id": "fd89cfc6",
   "metadata": {},
   "source": [
    "# 8 Exercises"
   ]
  },
  {
   "cell_type": "code",
   "execution_count": 3,
   "id": "0a59d1dd",
   "metadata": {},
   "outputs": [],
   "source": [
    "import numpy as np\n",
    "# Use the following code for the questions below:\n",
    "a = np.array([4, 10, 12, 23, -2, -1, 0, 0, 0, -6, 3, -7])"
   ]
  },
  {
   "cell_type": "code",
   "execution_count": 9,
   "id": "d1ae1a13",
   "metadata": {},
   "outputs": [
    {
     "data": {
      "text/plain": [
       "4"
      ]
     },
     "execution_count": 9,
     "metadata": {},
     "output_type": "execute_result"
    }
   ],
   "source": [
    "# 1. How many negative numbers are there?\n",
    "negatives = a < 0\n",
    "len(a[negatives])"
   ]
  },
  {
   "cell_type": "code",
   "execution_count": 10,
   "id": "5f22a03b",
   "metadata": {},
   "outputs": [
    {
     "data": {
      "text/plain": [
       "8"
      ]
     },
     "execution_count": 10,
     "metadata": {},
     "output_type": "execute_result"
    }
   ],
   "source": [
    "# 2. How many positive numbers are there?\n",
    "positives = a >= 0\n",
    "len(a[positives])"
   ]
  },
  {
   "cell_type": "code",
   "execution_count": 11,
   "id": "7cc3f78b",
   "metadata": {},
   "outputs": [
    {
     "data": {
      "text/plain": [
       "6"
      ]
     },
     "execution_count": 11,
     "metadata": {},
     "output_type": "execute_result"
    }
   ],
   "source": [
    "# 3. How many even positive numbers are there?\n",
    "positive_even = (a >= 0) & (a % 2 == 0)\n",
    "len(a[positive_even])"
   ]
  },
  {
   "cell_type": "code",
   "execution_count": 19,
   "id": "c168ac63",
   "metadata": {},
   "outputs": [
    {
     "data": {
      "text/plain": [
       "10"
      ]
     },
     "execution_count": 19,
     "metadata": {},
     "output_type": "execute_result"
    }
   ],
   "source": [
    "# 4. If you were to add 3 to each data point, how many positive numbers would there be?\n",
    "add_3 = a + 3\n",
    "len(add_3[add_3 >= 0])"
   ]
  },
  {
   "cell_type": "code",
   "execution_count": 26,
   "id": "b282d427",
   "metadata": {},
   "outputs": [
    {
     "name": "stdout",
     "output_type": "stream",
     "text": [
      "old mean ==> 3.0\n",
      "new mean ==> 74.0\n",
      "old std ==> 8.06225774829855\n",
      "new std ==> 144.0243035046516\n"
     ]
    }
   ],
   "source": [
    "# 5. If you squared each number, what would the new mean and standard deviation be?\n",
    "sqr = a ** 2\n",
    "print('old mean ==>',np.mean(a))\n",
    "print('new mean ==>',np.mean(sqr))\n",
    "print('old std ==>',np.std(a))\n",
    "print('new std ==>',np.std(sqr))"
   ]
  },
  {
   "cell_type": "code",
   "execution_count": 32,
   "id": "23bbd0a4",
   "metadata": {},
   "outputs": [
    {
     "data": {
      "text/plain": [
       "array([  1.,   7.,   9.,  20.,  -5.,  -4.,  -3.,  -3.,  -3.,  -9.,   0.,\n",
       "       -10.])"
      ]
     },
     "execution_count": 32,
     "metadata": {},
     "output_type": "execute_result"
    }
   ],
   "source": [
    "# 6. A common statistical operation on a dataset is centering. This means to adjust the data such \n",
    "#    that the mean of the data is 0. This is done by subtracting the mean from each data point. \n",
    "#    Center the data set. See this link for more on centering.\n",
    "np.mean(a)\n",
    "center_array = a - np.mean(a)\n",
    "center_array"
   ]
  },
  {
   "cell_type": "code",
   "execution_count": 35,
   "id": "4c05718c",
   "metadata": {},
   "outputs": [
    {
     "data": {
      "text/plain": [
       "array([ 0.12403473,  0.86824314,  1.11631261,  2.48069469, -0.62017367,\n",
       "       -0.49613894, -0.3721042 , -0.3721042 , -0.3721042 , -1.11631261,\n",
       "        0.        , -1.24034735])"
      ]
     },
     "execution_count": 35,
     "metadata": {},
     "output_type": "execute_result"
    }
   ],
   "source": [
    "# 7. Calculate the z-score for each data point. Recall that the z-score is given by:\n",
    "a_meansub = a - np.mean(a)\n",
    "a_zscore = a_meansub / np.std(a)\n",
    "a_zscore"
   ]
  },
  {
   "cell_type": "code",
   "execution_count": 36,
   "id": "d793b3f1",
   "metadata": {},
   "outputs": [],
   "source": [
    "# 8. Copy the setup and exercise directions from More Numpy Practice into your numpy_exercises.py \n",
    "#    and add your solutions."
   ]
  },
  {
   "cell_type": "markdown",
   "id": "9d8d9dd8",
   "metadata": {},
   "source": [
    "# 8's Setup 1 (8)"
   ]
  },
  {
   "cell_type": "code",
   "execution_count": 37,
   "id": "d6255334",
   "metadata": {},
   "outputs": [],
   "source": [
    "import numpy as np\n",
    "# Life w/o numpy to life with numpy"
   ]
  },
  {
   "cell_type": "code",
   "execution_count": 44,
   "id": "eca5d165",
   "metadata": {},
   "outputs": [],
   "source": [
    "## Setup 1\n",
    "a = [1, 2, 3, 4, 5, 6, 7, 8, 9, 10]"
   ]
  },
  {
   "cell_type": "code",
   "execution_count": 45,
   "id": "9bf8998e",
   "metadata": {},
   "outputs": [
    {
     "data": {
      "text/plain": [
       "55"
      ]
     },
     "execution_count": 45,
     "metadata": {},
     "output_type": "execute_result"
    }
   ],
   "source": [
    "# Use python's built in functionality/operators to determine the following:\n",
    "# Exercise 1 - Make a variable called sum_of_a to hold the sum of all the numbers in above list\n",
    "sum_of_a = np.sum(a)\n",
    "sum_of_a"
   ]
  },
  {
   "cell_type": "code",
   "execution_count": 46,
   "id": "b78c591e",
   "metadata": {},
   "outputs": [
    {
     "data": {
      "text/plain": [
       "1"
      ]
     },
     "execution_count": 46,
     "metadata": {},
     "output_type": "execute_result"
    }
   ],
   "source": [
    "# Exercise 2 - Make a variable named min_of_a to hold the minimum of all the numbers in the above list\n",
    "min_of_a = np.min(a)\n",
    "min_of_a"
   ]
  },
  {
   "cell_type": "code",
   "execution_count": 47,
   "id": "be76a4d0",
   "metadata": {},
   "outputs": [
    {
     "data": {
      "text/plain": [
       "10"
      ]
     },
     "execution_count": 47,
     "metadata": {},
     "output_type": "execute_result"
    }
   ],
   "source": [
    "# Exercise 3 - Make a variable named max_of_a to hold the max number of all the numbers in the above list\n",
    "max_of_a = np.max(a)\n",
    "max_of_a"
   ]
  },
  {
   "cell_type": "code",
   "execution_count": 48,
   "id": "96e8626b",
   "metadata": {},
   "outputs": [
    {
     "data": {
      "text/plain": [
       "5.5"
      ]
     },
     "execution_count": 48,
     "metadata": {},
     "output_type": "execute_result"
    }
   ],
   "source": [
    "# Exercise 4 - Make a variable named mean_of_a to hold the average of all the numbers in the above list\n",
    "mean_of_a = np.mean(a)\n",
    "mean_of_a"
   ]
  },
  {
   "cell_type": "code",
   "execution_count": 49,
   "id": "9f0c069f",
   "metadata": {},
   "outputs": [
    {
     "data": {
      "text/plain": [
       "3628800"
      ]
     },
     "execution_count": 49,
     "metadata": {},
     "output_type": "execute_result"
    }
   ],
   "source": [
    "# Exercise 5 - Make a variable named product_of_a to hold the product of multiplying all the numbers in \n",
    "#              the above list together\n",
    "product_of_a = np.product(a)\n",
    "product_of_a"
   ]
  },
  {
   "cell_type": "code",
   "execution_count": 51,
   "id": "fc6c03ad",
   "metadata": {},
   "outputs": [
    {
     "data": {
      "text/plain": [
       "array([  1,   4,   9,  16,  25,  36,  49,  64,  81, 100])"
      ]
     },
     "execution_count": 51,
     "metadata": {},
     "output_type": "execute_result"
    }
   ],
   "source": [
    "# Exercise 6 - Make a variable named squares_of_a. It should hold each number in a squared like \n",
    "#              [1, 4, 9, 16, 25...]\n",
    "squares_of_a = np.square(a)\n",
    "squares_of_a"
   ]
  },
  {
   "cell_type": "code",
   "execution_count": 56,
   "id": "abb35bb1",
   "metadata": {},
   "outputs": [
    {
     "data": {
      "text/plain": [
       "array([1, 3, 5, 7, 9])"
      ]
     },
     "execution_count": 56,
     "metadata": {},
     "output_type": "execute_result"
    }
   ],
   "source": [
    "# Exercise 7 - Make a variable named odds_in_a. It should hold only the odd numbers\n",
    "array_a = np.array(a)\n",
    "odds_in_a = array_a[array_a % 2 != 0]\n",
    "odds_in_a"
   ]
  },
  {
   "cell_type": "code",
   "execution_count": 57,
   "id": "8770ac14",
   "metadata": {},
   "outputs": [
    {
     "data": {
      "text/plain": [
       "array([ 2,  4,  6,  8, 10])"
      ]
     },
     "execution_count": 57,
     "metadata": {},
     "output_type": "execute_result"
    }
   ],
   "source": [
    "# Exercise 8 - Make a variable named evens_in_a. It should hold only the evens.\n",
    "evens_in_a = array_a[array_a % 2 == 0]\n",
    "evens_in_a"
   ]
  },
  {
   "cell_type": "markdown",
   "id": "d72f2dd9",
   "metadata": {},
   "source": [
    "# 8's Setup 2 (12)"
   ]
  },
  {
   "cell_type": "code",
   "execution_count": 58,
   "id": "bba0831f",
   "metadata": {},
   "outputs": [],
   "source": [
    "## What about life in two dimensions? A list of lists is matrix, a table, a spreadsheet, a chessboard...\n",
    "## Setup 2: Consider what it would take to find the sum, min, max, average, sum, product, and list of \n",
    "#           squares for this list of two lists.\n",
    "b = [\n",
    "    [3, 4, 5],\n",
    "    [6, 7, 8]\n",
    "]"
   ]
  },
  {
   "cell_type": "code",
   "execution_count": 66,
   "id": "cbf1e136",
   "metadata": {},
   "outputs": [
    {
     "data": {
      "text/plain": [
       "33"
      ]
     },
     "execution_count": 66,
     "metadata": {},
     "output_type": "execute_result"
    }
   ],
   "source": [
    "# Exercise 1 - refactor the following to use numpy. Use sum_of_b as the variable. **Hint, you'll first \n",
    "#              need to make sure that the \"b\" variable is a numpy array**\n",
    "sum_of_b = 0\n",
    "for row in b:\n",
    "    sum_of_b += sum(row)\n",
    "\n",
    "# Array version\n",
    "sum_of_b\n",
    "array_b = np.array(b)\n",
    "sum_of_array_b = np.sum(array_b)\n",
    "sum_of_array_b"
   ]
  },
  {
   "cell_type": "code",
   "execution_count": 68,
   "id": "e2fd7c7a",
   "metadata": {},
   "outputs": [
    {
     "data": {
      "text/plain": [
       "3"
      ]
     },
     "execution_count": 68,
     "metadata": {},
     "output_type": "execute_result"
    }
   ],
   "source": [
    "# Exercise 2 - refactor the following to use numpy. \n",
    "min_of_b = min(b[0]) if min(b[0]) <= min(b[1]) else min(b[1])\n",
    "\n",
    "# Array version\n",
    "min_of_array_b = np.min(array_b)\n",
    "min_of_array_b"
   ]
  },
  {
   "cell_type": "code",
   "execution_count": 69,
   "id": "b264367a",
   "metadata": {},
   "outputs": [
    {
     "data": {
      "text/plain": [
       "8"
      ]
     },
     "execution_count": 69,
     "metadata": {},
     "output_type": "execute_result"
    }
   ],
   "source": [
    "# Exercise 3 - refactor the following maximum calculation to find the answer with numpy.\n",
    "max_of_b = max(b[0]) if max(b[0]) >= max(b[1]) else max(b[1])\n",
    "\n",
    "# Array Version\n",
    "max_of_array_b = np.max(array_b)\n",
    "max_of_array_b"
   ]
  },
  {
   "cell_type": "code",
   "execution_count": 70,
   "id": "bb7ca8ca",
   "metadata": {},
   "outputs": [
    {
     "data": {
      "text/plain": [
       "5.5"
      ]
     },
     "execution_count": 70,
     "metadata": {},
     "output_type": "execute_result"
    }
   ],
   "source": [
    "# Exercise 4 - refactor the following using numpy to find the mean of b\n",
    "mean_of_b = (sum(b[0]) + sum(b[1])) / (len(b[0]) + len(b[1]))\n",
    "\n",
    "# Array Version\n",
    "mean_of_array_b = np.mean(array_b)\n",
    "mean_of_array_b"
   ]
  },
  {
   "cell_type": "code",
   "execution_count": 71,
   "id": "3d5bcdc2",
   "metadata": {},
   "outputs": [
    {
     "data": {
      "text/plain": [
       "20160"
      ]
     },
     "execution_count": 71,
     "metadata": {},
     "output_type": "execute_result"
    }
   ],
   "source": [
    "# Exercise 5 - refactor the following to use numpy for calculating the product of all numbers multiplied \n",
    "#              together.\n",
    "product_of_b = 1\n",
    "for row in b:\n",
    "    for number in row:\n",
    "        product_of_b *= number\n",
    "\n",
    "# Array Version\n",
    "product_of_array_b = np.product(array_b)\n",
    "product_of_array_b"
   ]
  },
  {
   "cell_type": "code",
   "execution_count": 73,
   "id": "428022d7",
   "metadata": {},
   "outputs": [
    {
     "data": {
      "text/plain": [
       "array([[ 9, 16, 25],\n",
       "       [36, 49, 64]])"
      ]
     },
     "execution_count": 73,
     "metadata": {},
     "output_type": "execute_result"
    }
   ],
   "source": [
    "# Exercise 6 - refactor the following to use numpy to find the list of squares \n",
    "squares_of_b = []\n",
    "for row in b:\n",
    "    for number in row:\n",
    "        squares_of_b.append(number**2)\n",
    "        \n",
    "# Array Version\n",
    "squares_of_array_b = np.square(array_b)\n",
    "squares_of_array_b"
   ]
  },
  {
   "cell_type": "code",
   "execution_count": 74,
   "id": "e970a931",
   "metadata": {},
   "outputs": [
    {
     "data": {
      "text/plain": [
       "array([3, 5, 7])"
      ]
     },
     "execution_count": 74,
     "metadata": {},
     "output_type": "execute_result"
    }
   ],
   "source": [
    "# Exercise 7 - refactor using numpy to determine the odds_in_b\n",
    "odds_in_b = []\n",
    "for row in b:\n",
    "    for number in row:\n",
    "        if(number % 2 != 0):\n",
    "            odds_in_b.append(number)\n",
    "            \n",
    "# Array Version\n",
    "odds_in_array_b = array_b[array_b % 2 != 0]\n",
    "odds_in_array_b"
   ]
  },
  {
   "cell_type": "code",
   "execution_count": 75,
   "id": "99acecfd",
   "metadata": {},
   "outputs": [
    {
     "data": {
      "text/plain": [
       "array([4, 6, 8])"
      ]
     },
     "execution_count": 75,
     "metadata": {},
     "output_type": "execute_result"
    }
   ],
   "source": [
    "# Exercise 8 - refactor the following to use numpy to filter only the even numbers\n",
    "evens_in_b = []\n",
    "for row in b:\n",
    "    for number in row:\n",
    "        if(number % 2 == 0):\n",
    "            evens_in_b.append(number)\n",
    "            \n",
    "# Array Version\n",
    "evens_in_array_b = array_b[array_b % 2 == 0]\n",
    "evens_in_array_b"
   ]
  },
  {
   "cell_type": "code",
   "execution_count": 76,
   "id": "283d83c8",
   "metadata": {},
   "outputs": [
    {
     "data": {
      "text/plain": [
       "(2, 3)"
      ]
     },
     "execution_count": 76,
     "metadata": {},
     "output_type": "execute_result"
    }
   ],
   "source": [
    "# Exercise 9 - print out the shape of the array b.\n",
    "array_b.shape"
   ]
  },
  {
   "cell_type": "code",
   "execution_count": 77,
   "id": "11a29d01",
   "metadata": {},
   "outputs": [
    {
     "data": {
      "text/plain": [
       "<function ndarray.transpose>"
      ]
     },
     "execution_count": 77,
     "metadata": {},
     "output_type": "execute_result"
    }
   ],
   "source": [
    "# Exercise 10 - transpose the array b.\n",
    "array_b.transpose"
   ]
  },
  {
   "cell_type": "code",
   "execution_count": 78,
   "id": "97d19fc8",
   "metadata": {},
   "outputs": [
    {
     "data": {
      "text/plain": [
       "array([[3, 4, 5, 6, 7, 8]])"
      ]
     },
     "execution_count": 78,
     "metadata": {},
     "output_type": "execute_result"
    }
   ],
   "source": [
    "# Exercise 11 - reshape the array b to be a single list of 6 numbers. (1 x 6)\n",
    "array_b.reshape(1, 6)"
   ]
  },
  {
   "cell_type": "code",
   "execution_count": 79,
   "id": "91c62deb",
   "metadata": {},
   "outputs": [
    {
     "data": {
      "text/plain": [
       "array([[3],\n",
       "       [4],\n",
       "       [5],\n",
       "       [6],\n",
       "       [7],\n",
       "       [8]])"
      ]
     },
     "execution_count": 79,
     "metadata": {},
     "output_type": "execute_result"
    }
   ],
   "source": [
    "# Exercise 12 - reshape the array b to be a list of 6 lists, each containing only 1 number (6 x 1)\n",
    "array_b.reshape(6, 1)"
   ]
  },
  {
   "cell_type": "markdown",
   "id": "37d16b94",
   "metadata": {},
   "source": [
    "# 8's Setup 3 (8)"
   ]
  },
  {
   "cell_type": "code",
   "execution_count": 5,
   "id": "426b0b15",
   "metadata": {},
   "outputs": [],
   "source": [
    "## Setup 3\n",
    "c = [\n",
    "    [1, 2, 3],\n",
    "    [4, 5, 6],\n",
    "    [7, 8, 9]\n",
    "]\n",
    "# HINT, you'll first need to make sure that the \"c\" variable is a numpy array prior to using numpy \n",
    "#       array methods."
   ]
  },
  {
   "cell_type": "code",
   "execution_count": null,
   "id": "cd3815ff",
   "metadata": {},
   "outputs": [],
   "source": [
    "# Exercise 1 - Find the min, max, sum, and product of c.\n"
   ]
  },
  {
   "cell_type": "code",
   "execution_count": null,
   "id": "0aa36957",
   "metadata": {},
   "outputs": [],
   "source": [
    "# Exercise 2 - Determine the standard deviation of c.\n"
   ]
  },
  {
   "cell_type": "code",
   "execution_count": null,
   "id": "5edd8f9b",
   "metadata": {},
   "outputs": [],
   "source": [
    "# Exercise 3 - Determine the variance of c.\n"
   ]
  },
  {
   "cell_type": "code",
   "execution_count": null,
   "id": "4f9968ee",
   "metadata": {},
   "outputs": [],
   "source": [
    "# Exercise 4 - Print out the shape of the array c\n"
   ]
  },
  {
   "cell_type": "code",
   "execution_count": null,
   "id": "7d642cfa",
   "metadata": {},
   "outputs": [],
   "source": [
    "# Exercise 5 - Transpose c and print out transposed result.\n"
   ]
  },
  {
   "cell_type": "code",
   "execution_count": null,
   "id": "009ef08b",
   "metadata": {},
   "outputs": [],
   "source": [
    "# Exercise 6 - Get the dot product of the array c with c. \n"
   ]
  },
  {
   "cell_type": "code",
   "execution_count": null,
   "id": "b9ee3f83",
   "metadata": {},
   "outputs": [],
   "source": [
    "# Exercise 7 - Write the code necessary to sum up the result of c times c transposed. Answer should be 261\n"
   ]
  },
  {
   "cell_type": "code",
   "execution_count": null,
   "id": "5b936529",
   "metadata": {},
   "outputs": [],
   "source": [
    "# Exercise 8 - Write the code necessary to determine the product of c times c transposed. Answer \n",
    "#              should be 131681894400.\n"
   ]
  },
  {
   "cell_type": "markdown",
   "id": "f69772c6",
   "metadata": {},
   "source": [
    "# 8's Setup 4 (10)"
   ]
  },
  {
   "cell_type": "code",
   "execution_count": 6,
   "id": "df3ab068",
   "metadata": {},
   "outputs": [],
   "source": [
    "## Setup 4\n",
    "d = [\n",
    "    [90, 30, 45, 0, 120, 180],\n",
    "    [45, -90, -30, 270, 90, 0],\n",
    "    [60, 45, -45, 90, -45, 180]\n",
    "]"
   ]
  },
  {
   "cell_type": "code",
   "execution_count": null,
   "id": "abaf6019",
   "metadata": {},
   "outputs": [],
   "source": [
    "# Exercise 1 - Find the sine of all the numbers in d\n"
   ]
  },
  {
   "cell_type": "code",
   "execution_count": null,
   "id": "bf06b457",
   "metadata": {},
   "outputs": [],
   "source": [
    "# Exercise 2 - Find the cosine of all the numbers in d\n"
   ]
  },
  {
   "cell_type": "code",
   "execution_count": null,
   "id": "307cf60c",
   "metadata": {},
   "outputs": [],
   "source": [
    "# Exercise 3 - Find the tangent of all the numbers in d\n"
   ]
  },
  {
   "cell_type": "code",
   "execution_count": null,
   "id": "343308a0",
   "metadata": {},
   "outputs": [],
   "source": [
    "# Exercise 4 - Find all the negative numbers in d\n"
   ]
  },
  {
   "cell_type": "code",
   "execution_count": null,
   "id": "7f58daea",
   "metadata": {},
   "outputs": [],
   "source": [
    "# Exercise 5 - Find all the positive numbers in d\n"
   ]
  },
  {
   "cell_type": "code",
   "execution_count": null,
   "id": "243bf7e3",
   "metadata": {},
   "outputs": [],
   "source": [
    "# Exercise 6 - Return an array of only the unique numbers in d.\n"
   ]
  },
  {
   "cell_type": "code",
   "execution_count": null,
   "id": "0fb2b993",
   "metadata": {},
   "outputs": [],
   "source": [
    "# Exercise 7 - Determine how many unique numbers there are in d.\n"
   ]
  },
  {
   "cell_type": "code",
   "execution_count": null,
   "id": "da311927",
   "metadata": {},
   "outputs": [],
   "source": [
    "# Exercise 8 - Print out the shape of d.\n"
   ]
  },
  {
   "cell_type": "code",
   "execution_count": null,
   "id": "dc01bf71",
   "metadata": {},
   "outputs": [],
   "source": [
    "# Exercise 9 - Transpose and then print out the shape of d.\n"
   ]
  },
  {
   "cell_type": "code",
   "execution_count": null,
   "id": "4ddaf02f",
   "metadata": {},
   "outputs": [],
   "source": [
    "# Exercise 10 - Reshape d into an array of 9 x 2\n"
   ]
  },
  {
   "cell_type": "markdown",
   "id": "512bab7f",
   "metadata": {},
   "source": [
    "# Awesome Bonus"
   ]
  },
  {
   "cell_type": "markdown",
   "id": "9f57d7ec",
   "metadata": {},
   "source": [
    "For much more practice with numpy, Go to https://github.com/rougier/numpy-100 \n",
    "and clone the repo down to your laptop. To clone a repository: - Copy the SSH \n",
    "address of the repository - \n",
    "cd ~/codeup-data-science - Then type git clone git@github.com:rougier/numpy-100.git - \n",
    "Now do cd numpy-100 on your terminal. - Type \n",
    "git remote remove origin, so you won't accidentally try to push your work to Rougier's repo.\n",
    "\n",
    "Congratulations! You have cloned Rougier's 100 numpy exercises to your computer. Now you need to \n",
    "make a new, blank, repository on GitHub."
   ]
  },
  {
   "cell_type": "markdown",
   "id": "441ce936",
   "metadata": {},
   "source": [
    "       - Go to https://github.com/new to make a new repo. Name it numpy-100.\n",
    "       - DO NOT check any check boxes. We need a blank, empty repo.\n",
    "       - Finally, follow the directions to \"push an existing repository from the command line\" so \n",
    "         that you can push up your changes to your own account.\n",
    "       - Now do work, add it, commit it, and push it!"
   ]
  }
 ],
 "metadata": {
  "kernelspec": {
   "display_name": "Python 3 (ipykernel)",
   "language": "python",
   "name": "python3"
  },
  "language_info": {
   "codemirror_mode": {
    "name": "ipython",
    "version": 3
   },
   "file_extension": ".py",
   "mimetype": "text/x-python",
   "name": "python",
   "nbconvert_exporter": "python",
   "pygments_lexer": "ipython3",
   "version": "3.9.13"
  }
 },
 "nbformat": 4,
 "nbformat_minor": 5
}
