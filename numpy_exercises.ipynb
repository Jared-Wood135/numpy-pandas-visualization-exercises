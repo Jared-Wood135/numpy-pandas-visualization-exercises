{
 "cells": [
  {
   "cell_type": "markdown",
   "id": "d01bcf94",
   "metadata": {},
   "source": [
    "# 8 Exercises"
   ]
  },
  {
   "cell_type": "code",
   "execution_count": 3,
   "id": "05be740e",
   "metadata": {},
   "outputs": [],
   "source": [
    "import numpy as np\n",
    "# Use the following code for the questions below:\n",
    "a = np.array([4, 10, 12, 23, -2, -1, 0, 0, 0, -6, 3, -7])"
   ]
  },
  {
   "cell_type": "code",
   "execution_count": null,
   "id": "7b1da82d",
   "metadata": {},
   "outputs": [],
   "source": [
    "# 1. How many negative numbers are there?\n"
   ]
  },
  {
   "cell_type": "code",
   "execution_count": null,
   "id": "7a0d6712",
   "metadata": {},
   "outputs": [],
   "source": [
    "# 2. How many positive numbers are there?\n"
   ]
  },
  {
   "cell_type": "code",
   "execution_count": null,
   "id": "3be19ea3",
   "metadata": {},
   "outputs": [],
   "source": [
    "# 3. How many even positive numbers are there?\n"
   ]
  },
  {
   "cell_type": "code",
   "execution_count": null,
   "id": "63b3cc71",
   "metadata": {},
   "outputs": [],
   "source": [
    "# 4. If you were to add 3 to each data point, how many positive numbers would there be?\n"
   ]
  },
  {
   "cell_type": "code",
   "execution_count": null,
   "id": "8ee848f2",
   "metadata": {},
   "outputs": [],
   "source": [
    "# 5. If you squared each number, what would the new mean and standard deviation be?\n"
   ]
  },
  {
   "cell_type": "code",
   "execution_count": null,
   "id": "7057a5bf",
   "metadata": {},
   "outputs": [],
   "source": [
    "# 6. A common statistical operation on a dataset is centering. This means to adjust the data such \n",
    "#    that the mean of the data is 0. This is done by subtracting the mean from each data point. \n",
    "#    Center the data set. See this link for more on centering.\n"
   ]
  },
  {
   "cell_type": "code",
   "execution_count": null,
   "id": "7a448b40",
   "metadata": {},
   "outputs": [],
   "source": [
    "# 7. Calculate the z-score for each data point. Recall that the z-score is given by:\n"
   ]
  },
  {
   "cell_type": "code",
   "execution_count": null,
   "id": "5c9e5dfd",
   "metadata": {},
   "outputs": [],
   "source": [
    "# 8. Copy the setup and exercise directions from More Numpy Practice into your numpy_exercises.py \n",
    "#    and add your solutions.\n"
   ]
  },
  {
   "cell_type": "markdown",
   "id": "1587830c",
   "metadata": {},
   "source": [
    "# 8's Setup 1 (8)"
   ]
  },
  {
   "cell_type": "code",
   "execution_count": null,
   "id": "352c4304",
   "metadata": {},
   "outputs": [],
   "source": [
    "import numpy as np\n",
    "# Life w/o numpy to life with numpy"
   ]
  },
  {
   "cell_type": "code",
   "execution_count": null,
   "id": "dd7e6897",
   "metadata": {},
   "outputs": [],
   "source": [
    "# Use python's built in functionality/operators to determine the following:\n",
    "# Exercise 1 - Make a variable called sum_of_a to hold the sum of all the numbers in above list\n"
   ]
  },
  {
   "cell_type": "code",
   "execution_count": null,
   "id": "8baaaaf6",
   "metadata": {},
   "outputs": [],
   "source": [
    "# Exercise 2 - Make a variable named min_of_a to hold the minimum of all the numbers in the above list\n"
   ]
  },
  {
   "cell_type": "code",
   "execution_count": null,
   "id": "5026e753",
   "metadata": {},
   "outputs": [],
   "source": [
    "# Exercise 3 - Make a variable named max_of_a to hold the max number of all the numbers in the above list\n"
   ]
  },
  {
   "cell_type": "code",
   "execution_count": null,
   "id": "803aa8bb",
   "metadata": {},
   "outputs": [],
   "source": [
    "# Exercise 4 - Make a variable named mean_of_a to hold the average of all the numbers in the above list\n"
   ]
  },
  {
   "cell_type": "code",
   "execution_count": null,
   "id": "f445b7e1",
   "metadata": {},
   "outputs": [],
   "source": [
    "# Exercise 5 - Make a variable named product_of_a to hold the product of multiplying all the numbers in \n",
    "#              the above list together\n"
   ]
  },
  {
   "cell_type": "code",
   "execution_count": null,
   "id": "838fcd5d",
   "metadata": {},
   "outputs": [],
   "source": [
    "# Exercise 6 - Make a variable named squares_of_a. It should hold each number in a squared like \n",
    "#              [1, 4, 9, 16, 25...]\n"
   ]
  },
  {
   "cell_type": "code",
   "execution_count": null,
   "id": "7c73d2a0",
   "metadata": {},
   "outputs": [],
   "source": [
    "# Exercise 7 - Make a variable named odds_in_a. It should hold only the odd numbers\n"
   ]
  },
  {
   "cell_type": "code",
   "execution_count": null,
   "id": "d5bc0e45",
   "metadata": {},
   "outputs": [],
   "source": [
    "# Exercise 8 - Make a variable named evens_in_a. It should hold only the evens.\n"
   ]
  },
  {
   "cell_type": "code",
   "execution_count": null,
   "id": "cfa4cd2a",
   "metadata": {},
   "outputs": [],
   "source": [
    "## What about life in two dimensions? A list of lists is matrix, a table, a spreadsheet, a chessboard...\n"
   ]
  },
  {
   "cell_type": "markdown",
   "id": "eb723233",
   "metadata": {},
   "source": [
    "# 8's Setup 2 (12)"
   ]
  },
  {
   "cell_type": "code",
   "execution_count": 4,
   "id": "be05faa5",
   "metadata": {},
   "outputs": [],
   "source": [
    "## Setup 2: Consider what it would take to find the sum, min, max, average, sum, product, and list of \n",
    "#           squares for this list of two lists.\n",
    "b = [\n",
    "    [3, 4, 5],\n",
    "    [6, 7, 8]\n",
    "]"
   ]
  },
  {
   "cell_type": "code",
   "execution_count": null,
   "id": "26db82f3",
   "metadata": {},
   "outputs": [],
   "source": [
    "# Exercise 1 - refactor the following to use numpy. Use sum_of_b as the variable. **Hint, you'll first \n",
    "#              need to make sure that the \"b\" variable is a numpy array**\n",
    "sum_of_b = 0\n",
    "for row in b:\n",
    "    sum_of_b += sum(row)"
   ]
  },
  {
   "cell_type": "code",
   "execution_count": null,
   "id": "4085a458",
   "metadata": {},
   "outputs": [],
   "source": [
    "# Exercise 2 - refactor the following to use numpy. \n",
    "min_of_b = min(b[0]) if min(b[0]) <= min(b[1]) else min(b[1])  "
   ]
  },
  {
   "cell_type": "code",
   "execution_count": null,
   "id": "7a0e53ce",
   "metadata": {},
   "outputs": [],
   "source": [
    "# Exercise 3 - refactor the following maximum calculation to find the answer with numpy.\n",
    "max_of_b = max(b[0]) if max(b[0]) >= max(b[1]) else max(b[1])"
   ]
  },
  {
   "cell_type": "code",
   "execution_count": null,
   "id": "462de346",
   "metadata": {},
   "outputs": [],
   "source": [
    "# Exercise 4 - refactor the following using numpy to find the mean of b\n",
    "mean_of_b = (sum(b[0]) + sum(b[1])) / (len(b[0]) + len(b[1]))"
   ]
  },
  {
   "cell_type": "code",
   "execution_count": null,
   "id": "2f36faae",
   "metadata": {},
   "outputs": [],
   "source": [
    "# Exercise 5 - refactor the following to use numpy for calculating the product of all numbers multiplied \n",
    "#              together.\n",
    "product_of_b = 1\n",
    "for row in b:\n",
    "    for number in row:\n",
    "        product_of_b *= number"
   ]
  },
  {
   "cell_type": "code",
   "execution_count": null,
   "id": "49a17001",
   "metadata": {},
   "outputs": [],
   "source": [
    "# Exercise 6 - refactor the following to use numpy to find the list of squares \n",
    "squares_of_b = []\n",
    "for row in b:\n",
    "    for number in row:\n",
    "        squares_of_b.append(number**2)"
   ]
  },
  {
   "cell_type": "code",
   "execution_count": null,
   "id": "79c9f8f3",
   "metadata": {},
   "outputs": [],
   "source": [
    "# Exercise 7 - refactor using numpy to determine the odds_in_b\n",
    "odds_in_b = []\n",
    "for row in b:\n",
    "    for number in row:\n",
    "        if(number % 2 != 0):\n",
    "            odds_in_b.append(number)"
   ]
  },
  {
   "cell_type": "code",
   "execution_count": null,
   "id": "f9d3b811",
   "metadata": {},
   "outputs": [],
   "source": [
    "# Exercise 8 - refactor the following to use numpy to filter only the even numbers\n",
    "evens_in_b = []\n",
    "for row in b:\n",
    "    for number in row:\n",
    "        if(number % 2 == 0):\n",
    "            evens_in_b.append(number)"
   ]
  },
  {
   "cell_type": "code",
   "execution_count": null,
   "id": "2bc05fc4",
   "metadata": {},
   "outputs": [],
   "source": [
    "# Exercise 9 - print out the shape of the array b.\n"
   ]
  },
  {
   "cell_type": "code",
   "execution_count": null,
   "id": "328caffa",
   "metadata": {},
   "outputs": [],
   "source": [
    "# Exercise 10 - transpose the array b.\n"
   ]
  },
  {
   "cell_type": "code",
   "execution_count": null,
   "id": "abab1f4d",
   "metadata": {},
   "outputs": [],
   "source": [
    "# Exercise 11 - reshape the array b to be a single list of 6 numbers. (1 x 6)\n"
   ]
  },
  {
   "cell_type": "code",
   "execution_count": null,
   "id": "72a6a3dc",
   "metadata": {},
   "outputs": [],
   "source": [
    "# Exercise 12 - reshape the array b to be a list of 6 lists, each containing only 1 number (6 x 1)\n"
   ]
  },
  {
   "cell_type": "markdown",
   "id": "f6b269e1",
   "metadata": {},
   "source": [
    "# 8's Setup 3 (8)"
   ]
  },
  {
   "cell_type": "code",
   "execution_count": 5,
   "id": "d45c9719",
   "metadata": {},
   "outputs": [],
   "source": [
    "## Setup 3\n",
    "c = [\n",
    "    [1, 2, 3],\n",
    "    [4, 5, 6],\n",
    "    [7, 8, 9]\n",
    "]\n",
    "# HINT, you'll first need to make sure that the \"c\" variable is a numpy array prior to using numpy \n",
    "#       array methods."
   ]
  },
  {
   "cell_type": "code",
   "execution_count": null,
   "id": "d495b8ff",
   "metadata": {},
   "outputs": [],
   "source": [
    "# Exercise 1 - Find the min, max, sum, and product of c.\n"
   ]
  },
  {
   "cell_type": "code",
   "execution_count": null,
   "id": "783981be",
   "metadata": {},
   "outputs": [],
   "source": [
    "# Exercise 2 - Determine the standard deviation of c.\n"
   ]
  },
  {
   "cell_type": "code",
   "execution_count": null,
   "id": "0db3ad7a",
   "metadata": {},
   "outputs": [],
   "source": [
    "# Exercise 3 - Determine the variance of c.\n"
   ]
  },
  {
   "cell_type": "code",
   "execution_count": null,
   "id": "ab8c906b",
   "metadata": {},
   "outputs": [],
   "source": [
    "# Exercise 4 - Print out the shape of the array c\n"
   ]
  },
  {
   "cell_type": "code",
   "execution_count": null,
   "id": "6b96933f",
   "metadata": {},
   "outputs": [],
   "source": [
    "# Exercise 5 - Transpose c and print out transposed result.\n"
   ]
  },
  {
   "cell_type": "code",
   "execution_count": null,
   "id": "d634b942",
   "metadata": {},
   "outputs": [],
   "source": [
    "# Exercise 6 - Get the dot product of the array c with c. \n"
   ]
  },
  {
   "cell_type": "code",
   "execution_count": null,
   "id": "6813a3fe",
   "metadata": {},
   "outputs": [],
   "source": [
    "# Exercise 7 - Write the code necessary to sum up the result of c times c transposed. Answer should be 261\n"
   ]
  },
  {
   "cell_type": "code",
   "execution_count": null,
   "id": "e6bca614",
   "metadata": {},
   "outputs": [],
   "source": [
    "# Exercise 8 - Write the code necessary to determine the product of c times c transposed. Answer \n",
    "#              should be 131681894400.\n"
   ]
  },
  {
   "cell_type": "markdown",
   "id": "656b6c3b",
   "metadata": {},
   "source": [
    "# 8's Setup 4 (10)"
   ]
  },
  {
   "cell_type": "code",
   "execution_count": 6,
   "id": "c0369bfc",
   "metadata": {},
   "outputs": [],
   "source": [
    "## Setup 4\n",
    "d = [\n",
    "    [90, 30, 45, 0, 120, 180],\n",
    "    [45, -90, -30, 270, 90, 0],\n",
    "    [60, 45, -45, 90, -45, 180]\n",
    "]"
   ]
  },
  {
   "cell_type": "code",
   "execution_count": null,
   "id": "a99a4e75",
   "metadata": {},
   "outputs": [],
   "source": [
    "# Exercise 1 - Find the sine of all the numbers in d\n"
   ]
  },
  {
   "cell_type": "code",
   "execution_count": null,
   "id": "98f2c586",
   "metadata": {},
   "outputs": [],
   "source": [
    "# Exercise 2 - Find the cosine of all the numbers in d\n"
   ]
  },
  {
   "cell_type": "code",
   "execution_count": null,
   "id": "fa318246",
   "metadata": {},
   "outputs": [],
   "source": [
    "# Exercise 3 - Find the tangent of all the numbers in d\n"
   ]
  },
  {
   "cell_type": "code",
   "execution_count": null,
   "id": "34cca6e9",
   "metadata": {},
   "outputs": [],
   "source": [
    "# Exercise 4 - Find all the negative numbers in d\n"
   ]
  },
  {
   "cell_type": "code",
   "execution_count": null,
   "id": "dfe60b18",
   "metadata": {},
   "outputs": [],
   "source": [
    "# Exercise 5 - Find all the positive numbers in d\n"
   ]
  },
  {
   "cell_type": "code",
   "execution_count": null,
   "id": "282cbaa2",
   "metadata": {},
   "outputs": [],
   "source": [
    "# Exercise 6 - Return an array of only the unique numbers in d.\n"
   ]
  },
  {
   "cell_type": "code",
   "execution_count": null,
   "id": "19271600",
   "metadata": {},
   "outputs": [],
   "source": [
    "# Exercise 7 - Determine how many unique numbers there are in d.\n"
   ]
  },
  {
   "cell_type": "code",
   "execution_count": null,
   "id": "36f532ec",
   "metadata": {},
   "outputs": [],
   "source": [
    "# Exercise 8 - Print out the shape of d.\n"
   ]
  },
  {
   "cell_type": "code",
   "execution_count": null,
   "id": "0b5d333a",
   "metadata": {},
   "outputs": [],
   "source": [
    "# Exercise 9 - Transpose and then print out the shape of d.\n"
   ]
  },
  {
   "cell_type": "code",
   "execution_count": null,
   "id": "c3662502",
   "metadata": {},
   "outputs": [],
   "source": [
    "# Exercise 10 - Reshape d into an array of 9 x 2\n"
   ]
  },
  {
   "cell_type": "markdown",
   "id": "b1cb8d09",
   "metadata": {},
   "source": [
    "# Awesome Bonus"
   ]
  },
  {
   "cell_type": "markdown",
   "id": "9edffa5f",
   "metadata": {},
   "source": [
    "For much more practice with numpy, Go to https://github.com/rougier/numpy-100 \n",
    "and clone the repo down to your laptop. To clone a repository: - Copy the SSH \n",
    "address of the repository - \n",
    "cd ~/codeup-data-science - Then type git clone git@github.com:rougier/numpy-100.git - \n",
    "Now do cd numpy-100 on your terminal. - Type \n",
    "git remote remove origin, so you won't accidentally try to push your work to Rougier's repo.\n",
    "\n",
    "Congratulations! You have cloned Rougier's 100 numpy exercises to your computer. Now you need to \n",
    "make a new, blank, repository on GitHub."
   ]
  },
  {
   "cell_type": "markdown",
   "id": "6261199e",
   "metadata": {},
   "source": [
    "       - Go to https://github.com/new to make a new repo. Name it numpy-100.\n",
    "       - DO NOT check any check boxes. We need a blank, empty repo.\n",
    "       - Finally, follow the directions to \"push an existing repository from the command line\" so \n",
    "         that you can push up your changes to your own account.\n",
    "       - Now do work, add it, commit it, and push it!"
   ]
  }
 ],
 "metadata": {
  "kernelspec": {
   "display_name": "Python 3 (ipykernel)",
   "language": "python",
   "name": "python3"
  },
  "language_info": {
   "codemirror_mode": {
    "name": "ipython",
    "version": 3
   },
   "file_extension": ".py",
   "mimetype": "text/x-python",
   "name": "python",
   "nbconvert_exporter": "python",
   "pygments_lexer": "ipython3",
   "version": "3.9.13"
  }
 },
 "nbformat": 4,
 "nbformat_minor": 5
}
