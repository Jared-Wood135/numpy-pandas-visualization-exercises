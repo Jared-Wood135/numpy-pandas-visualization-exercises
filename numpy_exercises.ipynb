{
 "cells": [
  {
   "cell_type": "markdown",
   "id": "04160266",
   "metadata": {},
   "source": [
    "# 8 Exercises"
   ]
  },
  {
   "cell_type": "code",
   "execution_count": 3,
   "id": "8a464e0b",
   "metadata": {},
   "outputs": [],
   "source": [
    "import numpy as np\n",
    "# Use the following code for the questions below:\n",
    "a = np.array([4, 10, 12, 23, -2, -1, 0, 0, 0, -6, 3, -7])"
   ]
  },
  {
   "cell_type": "code",
   "execution_count": 9,
   "id": "5053c58b",
   "metadata": {},
   "outputs": [
    {
     "data": {
      "text/plain": [
       "4"
      ]
     },
     "execution_count": 9,
     "metadata": {},
     "output_type": "execute_result"
    }
   ],
   "source": [
    "# 1. How many negative numbers are there?\n",
    "negatives = a < 0\n",
    "len(a[negatives])"
   ]
  },
  {
   "cell_type": "code",
   "execution_count": 10,
   "id": "1e3aa59c",
   "metadata": {},
   "outputs": [
    {
     "data": {
      "text/plain": [
       "8"
      ]
     },
     "execution_count": 10,
     "metadata": {},
     "output_type": "execute_result"
    }
   ],
   "source": [
    "# 2. How many positive numbers are there?\n",
    "positives = a >= 0\n",
    "len(a[positives])"
   ]
  },
  {
   "cell_type": "code",
   "execution_count": 11,
   "id": "d894bce0",
   "metadata": {},
   "outputs": [
    {
     "data": {
      "text/plain": [
       "6"
      ]
     },
     "execution_count": 11,
     "metadata": {},
     "output_type": "execute_result"
    }
   ],
   "source": [
    "# 3. How many even positive numbers are there?\n",
    "positive_even = (a >= 0) & (a % 2 == 0)\n",
    "len(a[positive_even])"
   ]
  },
  {
   "cell_type": "code",
   "execution_count": 19,
   "id": "ed9d07c0",
   "metadata": {},
   "outputs": [
    {
     "data": {
      "text/plain": [
       "10"
      ]
     },
     "execution_count": 19,
     "metadata": {},
     "output_type": "execute_result"
    }
   ],
   "source": [
    "# 4. If you were to add 3 to each data point, how many positive numbers would there be?\n",
    "add_3 = a + 3\n",
    "len(add_3[add_3 >= 0])"
   ]
  },
  {
   "cell_type": "code",
   "execution_count": 26,
   "id": "35971ba8",
   "metadata": {},
   "outputs": [
    {
     "name": "stdout",
     "output_type": "stream",
     "text": [
      "old mean ==> 3.0\n",
      "new mean ==> 74.0\n",
      "old std ==> 8.06225774829855\n",
      "new std ==> 144.0243035046516\n"
     ]
    }
   ],
   "source": [
    "# 5. If you squared each number, what would the new mean and standard deviation be?\n",
    "sqr = a ** 2\n",
    "print('old mean ==>',np.mean(a))\n",
    "print('new mean ==>',np.mean(sqr))\n",
    "print('old std ==>',np.std(a))\n",
    "print('new std ==>',np.std(sqr))"
   ]
  },
  {
   "cell_type": "code",
   "execution_count": 32,
   "id": "9a650a22",
   "metadata": {},
   "outputs": [
    {
     "data": {
      "text/plain": [
       "array([  1.,   7.,   9.,  20.,  -5.,  -4.,  -3.,  -3.,  -3.,  -9.,   0.,\n",
       "       -10.])"
      ]
     },
     "execution_count": 32,
     "metadata": {},
     "output_type": "execute_result"
    }
   ],
   "source": [
    "# 6. A common statistical operation on a dataset is centering. This means to adjust the data such \n",
    "#    that the mean of the data is 0. This is done by subtracting the mean from each data point. \n",
    "#    Center the data set. See this link for more on centering.\n",
    "np.mean(a)\n",
    "center_array = a - np.mean(a)\n",
    "center_array"
   ]
  },
  {
   "cell_type": "code",
   "execution_count": 35,
   "id": "6a3ac3f3",
   "metadata": {},
   "outputs": [
    {
     "data": {
      "text/plain": [
       "array([ 0.12403473,  0.86824314,  1.11631261,  2.48069469, -0.62017367,\n",
       "       -0.49613894, -0.3721042 , -0.3721042 , -0.3721042 , -1.11631261,\n",
       "        0.        , -1.24034735])"
      ]
     },
     "execution_count": 35,
     "metadata": {},
     "output_type": "execute_result"
    }
   ],
   "source": [
    "# 7. Calculate the z-score for each data point. Recall that the z-score is given by:\n",
    "a_meansub = a - np.mean(a)\n",
    "a_zscore = a_meansub / np.std(a)\n",
    "a_zscore"
   ]
  },
  {
   "cell_type": "code",
   "execution_count": 36,
   "id": "a9f17387",
   "metadata": {},
   "outputs": [],
   "source": [
    "# 8. Copy the setup and exercise directions from More Numpy Practice into your numpy_exercises.py \n",
    "#    and add your solutions."
   ]
  },
  {
   "cell_type": "markdown",
   "id": "3262f344",
   "metadata": {},
   "source": [
    "# 8's Setup 1 (8)"
   ]
  },
  {
   "cell_type": "code",
   "execution_count": 37,
   "id": "5139b59c",
   "metadata": {},
   "outputs": [],
   "source": [
    "import numpy as np\n",
    "# Life w/o numpy to life with numpy"
   ]
  },
  {
   "cell_type": "code",
   "execution_count": 44,
   "id": "d793ccd1",
   "metadata": {},
   "outputs": [],
   "source": [
    "## Setup 1\n",
    "a = [1, 2, 3, 4, 5, 6, 7, 8, 9, 10]"
   ]
  },
  {
   "cell_type": "code",
   "execution_count": 45,
   "id": "55077701",
   "metadata": {},
   "outputs": [
    {
     "data": {
      "text/plain": [
       "55"
      ]
     },
     "execution_count": 45,
     "metadata": {},
     "output_type": "execute_result"
    }
   ],
   "source": [
    "# Use python's built in functionality/operators to determine the following:\n",
    "# Exercise 1 - Make a variable called sum_of_a to hold the sum of all the numbers in above list\n",
    "sum_of_a = np.sum(a)\n",
    "sum_of_a"
   ]
  },
  {
   "cell_type": "code",
   "execution_count": 46,
   "id": "afeda2d3",
   "metadata": {},
   "outputs": [
    {
     "data": {
      "text/plain": [
       "1"
      ]
     },
     "execution_count": 46,
     "metadata": {},
     "output_type": "execute_result"
    }
   ],
   "source": [
    "# Exercise 2 - Make a variable named min_of_a to hold the minimum of all the numbers in the above list\n",
    "min_of_a = np.min(a)\n",
    "min_of_a"
   ]
  },
  {
   "cell_type": "code",
   "execution_count": 47,
   "id": "d3d0644f",
   "metadata": {},
   "outputs": [
    {
     "data": {
      "text/plain": [
       "10"
      ]
     },
     "execution_count": 47,
     "metadata": {},
     "output_type": "execute_result"
    }
   ],
   "source": [
    "# Exercise 3 - Make a variable named max_of_a to hold the max number of all the numbers in the above list\n",
    "max_of_a = np.max(a)\n",
    "max_of_a"
   ]
  },
  {
   "cell_type": "code",
   "execution_count": 48,
   "id": "263fef30",
   "metadata": {},
   "outputs": [
    {
     "data": {
      "text/plain": [
       "5.5"
      ]
     },
     "execution_count": 48,
     "metadata": {},
     "output_type": "execute_result"
    }
   ],
   "source": [
    "# Exercise 4 - Make a variable named mean_of_a to hold the average of all the numbers in the above list\n",
    "mean_of_a = np.mean(a)\n",
    "mean_of_a"
   ]
  },
  {
   "cell_type": "code",
   "execution_count": 49,
   "id": "2e571706",
   "metadata": {},
   "outputs": [
    {
     "data": {
      "text/plain": [
       "3628800"
      ]
     },
     "execution_count": 49,
     "metadata": {},
     "output_type": "execute_result"
    }
   ],
   "source": [
    "# Exercise 5 - Make a variable named product_of_a to hold the product of multiplying all the numbers in \n",
    "#              the above list together\n",
    "product_of_a = np.product(a)\n",
    "product_of_a"
   ]
  },
  {
   "cell_type": "code",
   "execution_count": 51,
   "id": "c91061bb",
   "metadata": {},
   "outputs": [
    {
     "data": {
      "text/plain": [
       "array([  1,   4,   9,  16,  25,  36,  49,  64,  81, 100])"
      ]
     },
     "execution_count": 51,
     "metadata": {},
     "output_type": "execute_result"
    }
   ],
   "source": [
    "# Exercise 6 - Make a variable named squares_of_a. It should hold each number in a squared like \n",
    "#              [1, 4, 9, 16, 25...]\n",
    "squares_of_a = np.square(a)\n",
    "squares_of_a"
   ]
  },
  {
   "cell_type": "code",
   "execution_count": 56,
   "id": "dbbc66c2",
   "metadata": {},
   "outputs": [
    {
     "data": {
      "text/plain": [
       "array([1, 3, 5, 7, 9])"
      ]
     },
     "execution_count": 56,
     "metadata": {},
     "output_type": "execute_result"
    }
   ],
   "source": [
    "# Exercise 7 - Make a variable named odds_in_a. It should hold only the odd numbers\n",
    "array_a = np.array(a)\n",
    "odds_in_a = array_a[array_a % 2 != 0]\n",
    "odds_in_a"
   ]
  },
  {
   "cell_type": "code",
   "execution_count": 57,
   "id": "a405920a",
   "metadata": {},
   "outputs": [
    {
     "data": {
      "text/plain": [
       "array([ 2,  4,  6,  8, 10])"
      ]
     },
     "execution_count": 57,
     "metadata": {},
     "output_type": "execute_result"
    }
   ],
   "source": [
    "# Exercise 8 - Make a variable named evens_in_a. It should hold only the evens.\n",
    "evens_in_a = array_a[array_a % 2 == 0]\n",
    "evens_in_a"
   ]
  },
  {
   "cell_type": "markdown",
   "id": "fc718568",
   "metadata": {},
   "source": [
    "# 8's Setup 2 (12)"
   ]
  },
  {
   "cell_type": "code",
   "execution_count": 58,
   "id": "b0f2face",
   "metadata": {},
   "outputs": [],
   "source": [
    "## What about life in two dimensions? A list of lists is matrix, a table, a spreadsheet, a chessboard...\n",
    "## Setup 2: Consider what it would take to find the sum, min, max, average, sum, product, and list of \n",
    "#           squares for this list of two lists.\n",
    "b = [\n",
    "    [3, 4, 5],\n",
    "    [6, 7, 8]\n",
    "]"
   ]
  },
  {
   "cell_type": "code",
   "execution_count": 66,
   "id": "c81c2194",
   "metadata": {},
   "outputs": [
    {
     "data": {
      "text/plain": [
       "33"
      ]
     },
     "execution_count": 66,
     "metadata": {},
     "output_type": "execute_result"
    }
   ],
   "source": [
    "# Exercise 1 - refactor the following to use numpy. Use sum_of_b as the variable. **Hint, you'll first \n",
    "#              need to make sure that the \"b\" variable is a numpy array**\n",
    "sum_of_b = 0\n",
    "for row in b:\n",
    "    sum_of_b += sum(row)\n",
    "\n",
    "# Array version\n",
    "sum_of_b\n",
    "array_b = np.array(b)\n",
    "sum_of_array_b = np.sum(array_b)\n",
    "sum_of_array_b"
   ]
  },
  {
   "cell_type": "code",
   "execution_count": 68,
   "id": "d08e646b",
   "metadata": {},
   "outputs": [
    {
     "data": {
      "text/plain": [
       "3"
      ]
     },
     "execution_count": 68,
     "metadata": {},
     "output_type": "execute_result"
    }
   ],
   "source": [
    "# Exercise 2 - refactor the following to use numpy. \n",
    "min_of_b = min(b[0]) if min(b[0]) <= min(b[1]) else min(b[1])\n",
    "\n",
    "# Array version\n",
    "min_of_array_b = np.min(array_b)\n",
    "min_of_array_b"
   ]
  },
  {
   "cell_type": "code",
   "execution_count": 69,
   "id": "af119d45",
   "metadata": {},
   "outputs": [
    {
     "data": {
      "text/plain": [
       "8"
      ]
     },
     "execution_count": 69,
     "metadata": {},
     "output_type": "execute_result"
    }
   ],
   "source": [
    "# Exercise 3 - refactor the following maximum calculation to find the answer with numpy.\n",
    "max_of_b = max(b[0]) if max(b[0]) >= max(b[1]) else max(b[1])\n",
    "\n",
    "# Array Version\n",
    "max_of_array_b = np.max(array_b)\n",
    "max_of_array_b"
   ]
  },
  {
   "cell_type": "code",
   "execution_count": 70,
   "id": "4f0fa354",
   "metadata": {},
   "outputs": [
    {
     "data": {
      "text/plain": [
       "5.5"
      ]
     },
     "execution_count": 70,
     "metadata": {},
     "output_type": "execute_result"
    }
   ],
   "source": [
    "# Exercise 4 - refactor the following using numpy to find the mean of b\n",
    "mean_of_b = (sum(b[0]) + sum(b[1])) / (len(b[0]) + len(b[1]))\n",
    "\n",
    "# Array Version\n",
    "mean_of_array_b = np.mean(array_b)\n",
    "mean_of_array_b"
   ]
  },
  {
   "cell_type": "code",
   "execution_count": 71,
   "id": "0ab22247",
   "metadata": {},
   "outputs": [
    {
     "data": {
      "text/plain": [
       "20160"
      ]
     },
     "execution_count": 71,
     "metadata": {},
     "output_type": "execute_result"
    }
   ],
   "source": [
    "# Exercise 5 - refactor the following to use numpy for calculating the product of all numbers multiplied \n",
    "#              together.\n",
    "product_of_b = 1\n",
    "for row in b:\n",
    "    for number in row:\n",
    "        product_of_b *= number\n",
    "\n",
    "# Array Version\n",
    "product_of_array_b = np.product(array_b)\n",
    "product_of_array_b"
   ]
  },
  {
   "cell_type": "code",
   "execution_count": 73,
   "id": "cd150537",
   "metadata": {},
   "outputs": [
    {
     "data": {
      "text/plain": [
       "array([[ 9, 16, 25],\n",
       "       [36, 49, 64]])"
      ]
     },
     "execution_count": 73,
     "metadata": {},
     "output_type": "execute_result"
    }
   ],
   "source": [
    "# Exercise 6 - refactor the following to use numpy to find the list of squares \n",
    "squares_of_b = []\n",
    "for row in b:\n",
    "    for number in row:\n",
    "        squares_of_b.append(number**2)\n",
    "        \n",
    "# Array Version\n",
    "squares_of_array_b = np.square(array_b)\n",
    "squares_of_array_b"
   ]
  },
  {
   "cell_type": "code",
   "execution_count": 74,
   "id": "8ec3699f",
   "metadata": {},
   "outputs": [
    {
     "data": {
      "text/plain": [
       "array([3, 5, 7])"
      ]
     },
     "execution_count": 74,
     "metadata": {},
     "output_type": "execute_result"
    }
   ],
   "source": [
    "# Exercise 7 - refactor using numpy to determine the odds_in_b\n",
    "odds_in_b = []\n",
    "for row in b:\n",
    "    for number in row:\n",
    "        if(number % 2 != 0):\n",
    "            odds_in_b.append(number)\n",
    "            \n",
    "# Array Version\n",
    "odds_in_array_b = array_b[array_b % 2 != 0]\n",
    "odds_in_array_b"
   ]
  },
  {
   "cell_type": "code",
   "execution_count": 75,
   "id": "dcfae361",
   "metadata": {},
   "outputs": [
    {
     "data": {
      "text/plain": [
       "array([4, 6, 8])"
      ]
     },
     "execution_count": 75,
     "metadata": {},
     "output_type": "execute_result"
    }
   ],
   "source": [
    "# Exercise 8 - refactor the following to use numpy to filter only the even numbers\n",
    "evens_in_b = []\n",
    "for row in b:\n",
    "    for number in row:\n",
    "        if(number % 2 == 0):\n",
    "            evens_in_b.append(number)\n",
    "            \n",
    "# Array Version\n",
    "evens_in_array_b = array_b[array_b % 2 == 0]\n",
    "evens_in_array_b"
   ]
  },
  {
   "cell_type": "code",
   "execution_count": 76,
   "id": "94bf01e3",
   "metadata": {},
   "outputs": [
    {
     "data": {
      "text/plain": [
       "(2, 3)"
      ]
     },
     "execution_count": 76,
     "metadata": {},
     "output_type": "execute_result"
    }
   ],
   "source": [
    "# Exercise 9 - print out the shape of the array b.\n",
    "array_b.shape"
   ]
  },
  {
   "cell_type": "code",
   "execution_count": 77,
   "id": "8f84c297",
   "metadata": {},
   "outputs": [
    {
     "data": {
      "text/plain": [
       "<function ndarray.transpose>"
      ]
     },
     "execution_count": 77,
     "metadata": {},
     "output_type": "execute_result"
    }
   ],
   "source": [
    "# Exercise 10 - transpose the array b.\n",
    "array_b.transpose"
   ]
  },
  {
   "cell_type": "code",
   "execution_count": 78,
   "id": "af0daf70",
   "metadata": {},
   "outputs": [
    {
     "data": {
      "text/plain": [
       "array([[3, 4, 5, 6, 7, 8]])"
      ]
     },
     "execution_count": 78,
     "metadata": {},
     "output_type": "execute_result"
    }
   ],
   "source": [
    "# Exercise 11 - reshape the array b to be a single list of 6 numbers. (1 x 6)\n",
    "array_b.reshape(1, 6)"
   ]
  },
  {
   "cell_type": "code",
   "execution_count": 79,
   "id": "cb0d2e93",
   "metadata": {},
   "outputs": [
    {
     "data": {
      "text/plain": [
       "array([[3],\n",
       "       [4],\n",
       "       [5],\n",
       "       [6],\n",
       "       [7],\n",
       "       [8]])"
      ]
     },
     "execution_count": 79,
     "metadata": {},
     "output_type": "execute_result"
    }
   ],
   "source": [
    "# Exercise 12 - reshape the array b to be a list of 6 lists, each containing only 1 number (6 x 1)\n",
    "array_b.reshape(6, 1)"
   ]
  },
  {
   "cell_type": "markdown",
   "id": "f7c81baf",
   "metadata": {},
   "source": [
    "# 8's Setup 3 (8)"
   ]
  },
  {
   "cell_type": "code",
   "execution_count": 81,
   "id": "b844bfaa",
   "metadata": {},
   "outputs": [
    {
     "data": {
      "text/plain": [
       "array([[1, 2, 3],\n",
       "       [4, 5, 6],\n",
       "       [7, 8, 9]])"
      ]
     },
     "execution_count": 81,
     "metadata": {},
     "output_type": "execute_result"
    }
   ],
   "source": [
    "## Setup 3\n",
    "c = [\n",
    "    [1, 2, 3],\n",
    "    [4, 5, 6],\n",
    "    [7, 8, 9]\n",
    "]\n",
    "# HINT, you'll first need to make sure that the \"c\" variable is a numpy array prior to using numpy \n",
    "#       array methods.\n",
    "# Array version\n",
    "array_c = np.array(c)\n",
    "array_c"
   ]
  },
  {
   "cell_type": "code",
   "execution_count": 82,
   "id": "f35e168d",
   "metadata": {},
   "outputs": [
    {
     "name": "stdout",
     "output_type": "stream",
     "text": [
      "min ==> 1\n",
      "max ==> 9\n",
      "sum ==> 45\n",
      "product ==> 362880\n"
     ]
    }
   ],
   "source": [
    "# Exercise 1 - Find the min, max, sum, and product of c.\n",
    "print('min ==>',np.min(array_c))\n",
    "print('max ==>',np.max(array_c))\n",
    "print('sum ==>',np.sum(array_c))\n",
    "print('product ==>',np.product(array_c))"
   ]
  },
  {
   "cell_type": "code",
   "execution_count": 83,
   "id": "68704078",
   "metadata": {},
   "outputs": [
    {
     "data": {
      "text/plain": [
       "2.581988897471611"
      ]
     },
     "execution_count": 83,
     "metadata": {},
     "output_type": "execute_result"
    }
   ],
   "source": [
    "# Exercise 2 - Determine the standard deviation of c.\n",
    "np.std(array_c)"
   ]
  },
  {
   "cell_type": "code",
   "execution_count": 84,
   "id": "0720b9e0",
   "metadata": {},
   "outputs": [
    {
     "data": {
      "text/plain": [
       "6.666666666666667"
      ]
     },
     "execution_count": 84,
     "metadata": {},
     "output_type": "execute_result"
    }
   ],
   "source": [
    "# Exercise 3 - Determine the variance of c.\n",
    "np.var(array_c)"
   ]
  },
  {
   "cell_type": "code",
   "execution_count": 94,
   "id": "3205efb1",
   "metadata": {},
   "outputs": [
    {
     "data": {
      "text/plain": [
       "(3, 3)"
      ]
     },
     "execution_count": 94,
     "metadata": {},
     "output_type": "execute_result"
    }
   ],
   "source": [
    "# Exercise 4 - Print out the shape of the array c\n",
    "array_c.shape"
   ]
  },
  {
   "cell_type": "code",
   "execution_count": 92,
   "id": "64fa52d5",
   "metadata": {},
   "outputs": [
    {
     "data": {
      "text/plain": [
       "array([[1, 4, 7],\n",
       "       [2, 5, 8],\n",
       "       [3, 6, 9]])"
      ]
     },
     "execution_count": 92,
     "metadata": {},
     "output_type": "execute_result"
    }
   ],
   "source": [
    "# Exercise 5 - Transpose c and print out transposed result.\n",
    "array_c_transposed = array_c.transpose()\n",
    "array_c_transposed"
   ]
  },
  {
   "cell_type": "code",
   "execution_count": 89,
   "id": "3e754a09",
   "metadata": {},
   "outputs": [
    {
     "data": {
      "text/plain": [
       "array([[ 30,  36,  42],\n",
       "       [ 66,  81,  96],\n",
       "       [102, 126, 150]])"
      ]
     },
     "execution_count": 89,
     "metadata": {},
     "output_type": "execute_result"
    }
   ],
   "source": [
    "# Exercise 6 - Get the dot product of the array c with c. \n",
    "array_c.dot(c)"
   ]
  },
  {
   "cell_type": "code",
   "execution_count": 95,
   "id": "4ce2e21a",
   "metadata": {},
   "outputs": [
    {
     "data": {
      "text/plain": [
       "261"
      ]
     },
     "execution_count": 95,
     "metadata": {},
     "output_type": "execute_result"
    }
   ],
   "source": [
    "# Exercise 7 - Write the code necessary to sum up the result of c times c transposed. Answer should be 261\n",
    "np.sum(array_c * array_c.transpose())"
   ]
  },
  {
   "cell_type": "code",
   "execution_count": 96,
   "id": "29a8e41c",
   "metadata": {},
   "outputs": [
    {
     "data": {
      "text/plain": [
       "131681894400"
      ]
     },
     "execution_count": 96,
     "metadata": {},
     "output_type": "execute_result"
    }
   ],
   "source": [
    "# Exercise 8 - Write the code necessary to determine the product of c times c transposed. Answer \n",
    "#              should be 131681894400.\n",
    "np.product(array_c * array_c_transposed)"
   ]
  },
  {
   "cell_type": "markdown",
   "id": "b02f8300",
   "metadata": {},
   "source": [
    "# 8's Setup 4 (10)"
   ]
  },
  {
   "cell_type": "code",
   "execution_count": 99,
   "id": "eb12f63c",
   "metadata": {},
   "outputs": [
    {
     "data": {
      "text/plain": [
       "array([[ 90,  30,  45,   0, 120, 180],\n",
       "       [ 45, -90, -30, 270,  90,   0],\n",
       "       [ 60,  45, -45,  90, -45, 180]])"
      ]
     },
     "execution_count": 99,
     "metadata": {},
     "output_type": "execute_result"
    }
   ],
   "source": [
    "## Setup 4\n",
    "d = [\n",
    "    [90, 30, 45, 0, 120, 180],\n",
    "    [45, -90, -30, 270, 90, 0],\n",
    "    [60, 45, -45, 90, -45, 180]\n",
    "]\n",
    "\n",
    "# Array Version\n",
    "array_d = np.array(d)\n",
    "array_d"
   ]
  },
  {
   "cell_type": "code",
   "execution_count": 101,
   "id": "d415a762",
   "metadata": {},
   "outputs": [
    {
     "data": {
      "text/plain": [
       "array([[ 0.89399666, -0.98803162,  0.85090352,  0.        ,  0.58061118,\n",
       "        -0.80115264],\n",
       "       [ 0.85090352, -0.89399666,  0.98803162, -0.17604595,  0.89399666,\n",
       "         0.        ],\n",
       "       [-0.30481062,  0.85090352, -0.85090352,  0.89399666, -0.85090352,\n",
       "        -0.80115264]])"
      ]
     },
     "execution_count": 101,
     "metadata": {},
     "output_type": "execute_result"
    }
   ],
   "source": [
    "# Exercise 1 - Find the sine of all the numbers in d\n",
    "sin_of_array_d = np.sin(array_d)\n",
    "sin_of_array_d"
   ]
  },
  {
   "cell_type": "code",
   "execution_count": 102,
   "id": "9958d3f0",
   "metadata": {},
   "outputs": [
    {
     "data": {
      "text/plain": [
       "array([[-0.44807362,  0.15425145,  0.52532199,  1.        ,  0.81418097,\n",
       "        -0.59846007],\n",
       "       [ 0.52532199, -0.44807362,  0.15425145,  0.98438195, -0.44807362,\n",
       "         1.        ],\n",
       "       [-0.95241298,  0.52532199,  0.52532199, -0.44807362,  0.52532199,\n",
       "        -0.59846007]])"
      ]
     },
     "execution_count": 102,
     "metadata": {},
     "output_type": "execute_result"
    }
   ],
   "source": [
    "# Exercise 2 - Find the cosine of all the numbers in d\n",
    "cosine_of_array_d = np.cos(array_d)\n",
    "cosine_of_array_d"
   ]
  },
  {
   "cell_type": "code",
   "execution_count": 104,
   "id": "65fe0b12",
   "metadata": {},
   "outputs": [
    {
     "data": {
      "text/plain": [
       "array([[-1.99520041, -6.4053312 ,  1.61977519,  0.        ,  0.71312301,\n",
       "         1.33869021],\n",
       "       [ 1.61977519,  1.99520041,  6.4053312 , -0.17883906, -1.99520041,\n",
       "         0.        ],\n",
       "       [ 0.32004039,  1.61977519, -1.61977519, -1.99520041, -1.61977519,\n",
       "         1.33869021]])"
      ]
     },
     "execution_count": 104,
     "metadata": {},
     "output_type": "execute_result"
    }
   ],
   "source": [
    "# Exercise 3 - Find the tangent of all the numbers in d\n",
    "tangent_of_array_d = np.tan(array_d)\n",
    "tangent_of_array_d"
   ]
  },
  {
   "cell_type": "code",
   "execution_count": 105,
   "id": "617d0359",
   "metadata": {},
   "outputs": [
    {
     "data": {
      "text/plain": [
       "array([-90, -30, -45, -45])"
      ]
     },
     "execution_count": 105,
     "metadata": {},
     "output_type": "execute_result"
    }
   ],
   "source": [
    "# Exercise 4 - Find all the negative numbers in d\n",
    "array_d[array_d < 0]"
   ]
  },
  {
   "cell_type": "code",
   "execution_count": 106,
   "id": "e567f027",
   "metadata": {},
   "outputs": [
    {
     "data": {
      "text/plain": [
       "array([ 90,  30,  45,   0, 120, 180,  45, 270,  90,   0,  60,  45,  90,\n",
       "       180])"
      ]
     },
     "execution_count": 106,
     "metadata": {},
     "output_type": "execute_result"
    }
   ],
   "source": [
    "# Exercise 5 - Find all the positive numbers in d\n",
    "array_d[array_d >= 0]"
   ]
  },
  {
   "cell_type": "code",
   "execution_count": 108,
   "id": "81f735f6",
   "metadata": {},
   "outputs": [
    {
     "data": {
      "text/plain": [
       "array([-90, -45, -30,   0,  30,  45,  60,  90, 120, 180, 270])"
      ]
     },
     "execution_count": 108,
     "metadata": {},
     "output_type": "execute_result"
    }
   ],
   "source": [
    "# Exercise 6 - Return an array of only the unique numbers in d.\n",
    "unique_of_array_d = np.unique(array_d)\n",
    "unique_of_array_d"
   ]
  },
  {
   "cell_type": "code",
   "execution_count": 109,
   "id": "cf5ed31f",
   "metadata": {},
   "outputs": [
    {
     "data": {
      "text/plain": [
       "11"
      ]
     },
     "execution_count": 109,
     "metadata": {},
     "output_type": "execute_result"
    }
   ],
   "source": [
    "# Exercise 7 - Determine how many unique numbers there are in d.\n",
    "len(unique_of_array_d)"
   ]
  },
  {
   "cell_type": "code",
   "execution_count": 110,
   "id": "b4ad9f92",
   "metadata": {},
   "outputs": [
    {
     "data": {
      "text/plain": [
       "(3, 6)"
      ]
     },
     "execution_count": 110,
     "metadata": {},
     "output_type": "execute_result"
    }
   ],
   "source": [
    "# Exercise 8 - Print out the shape of d.\n",
    "array_d.shape"
   ]
  },
  {
   "cell_type": "code",
   "execution_count": 111,
   "id": "fa36361d",
   "metadata": {},
   "outputs": [
    {
     "data": {
      "text/plain": [
       "array([[ 90,  45,  60],\n",
       "       [ 30, -90,  45],\n",
       "       [ 45, -30, -45],\n",
       "       [  0, 270,  90],\n",
       "       [120,  90, -45],\n",
       "       [180,   0, 180]])"
      ]
     },
     "execution_count": 111,
     "metadata": {},
     "output_type": "execute_result"
    }
   ],
   "source": [
    "# Exercise 9 - Transpose and then print out the shape of d.\n",
    "array_d.transpose()"
   ]
  },
  {
   "cell_type": "code",
   "execution_count": 112,
   "id": "e6e2486d",
   "metadata": {},
   "outputs": [
    {
     "data": {
      "text/plain": [
       "array([[ 90,  30],\n",
       "       [ 45,   0],\n",
       "       [120, 180],\n",
       "       [ 45, -90],\n",
       "       [-30, 270],\n",
       "       [ 90,   0],\n",
       "       [ 60,  45],\n",
       "       [-45,  90],\n",
       "       [-45, 180]])"
      ]
     },
     "execution_count": 112,
     "metadata": {},
     "output_type": "execute_result"
    }
   ],
   "source": [
    "# Exercise 10 - Reshape d into an array of 9 x 2\n",
    "array_d.reshape(9, 2)"
   ]
  },
  {
   "cell_type": "markdown",
   "id": "44b368c3",
   "metadata": {},
   "source": [
    "# Awesome Bonus"
   ]
  },
  {
   "cell_type": "markdown",
   "id": "46353b73",
   "metadata": {},
   "source": [
    "For much more practice with numpy, Go to https://github.com/rougier/numpy-100 \n",
    "and clone the repo down to your laptop. To clone a repository: - Copy the SSH \n",
    "address of the repository - \n",
    "cd ~/codeup-data-science - Then type git clone git@github.com:rougier/numpy-100.git - \n",
    "Now do cd numpy-100 on your terminal. - Type \n",
    "git remote remove origin, so you won't accidentally try to push your work to Rougier's repo.\n",
    "\n",
    "Congratulations! You have cloned Rougier's 100 numpy exercises to your computer. Now you need to \n",
    "make a new, blank, repository on GitHub."
   ]
  },
  {
   "cell_type": "markdown",
   "id": "08cfe450",
   "metadata": {},
   "source": [
    "       - Go to https://github.com/new to make a new repo. Name it numpy-100.\n",
    "       - DO NOT check any check boxes. We need a blank, empty repo.\n",
    "       - Finally, follow the directions to \"push an existing repository from the command line\" so \n",
    "         that you can push up your changes to your own account.\n",
    "       - Now do work, add it, commit it, and push it!"
   ]
  }
 ],
 "metadata": {
  "kernelspec": {
   "display_name": "Python 3 (ipykernel)",
   "language": "python",
   "name": "python3"
  },
  "language_info": {
   "codemirror_mode": {
    "name": "ipython",
    "version": 3
   },
   "file_extension": ".py",
   "mimetype": "text/x-python",
   "name": "python",
   "nbconvert_exporter": "python",
   "pygments_lexer": "ipython3",
   "version": "3.9.13"
  }
 },
 "nbformat": 4,
 "nbformat_minor": 5
}
