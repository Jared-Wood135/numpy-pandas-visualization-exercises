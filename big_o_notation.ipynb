{
 "cells": [
  {
   "cell_type": "markdown",
   "id": "2f6058b8",
   "metadata": {},
   "source": [
    "# =======================================================================================================\n",
    "# Question 5 (1st Set - 5) START\n",
    "# ======================================================================================================="
   ]
  },
  {
   "cell_type": "markdown",
   "id": "61086d11",
   "metadata": {},
   "source": [
    "### 1. Title your chart \"Big O Notation\""
   ]
  },
  {
   "cell_type": "code",
   "execution_count": null,
   "id": "7e286b4a",
   "metadata": {},
   "outputs": [],
   "source": []
  },
  {
   "cell_type": "markdown",
   "id": "56edbc74",
   "metadata": {},
   "source": [
    "### 2. Label your x axis \"Elements\""
   ]
  },
  {
   "cell_type": "code",
   "execution_count": null,
   "id": "429214f3",
   "metadata": {},
   "outputs": [],
   "source": []
  },
  {
   "cell_type": "markdown",
   "id": "166e4c06",
   "metadata": {},
   "source": [
    "### 3. Label your y axis \"Operations\""
   ]
  },
  {
   "cell_type": "code",
   "execution_count": null,
   "id": "e569f409",
   "metadata": {},
   "outputs": [],
   "source": []
  },
  {
   "cell_type": "markdown",
   "id": "f02632c6",
   "metadata": {},
   "source": [
    "### 4. Label your curves or make a legend for the curves"
   ]
  },
  {
   "cell_type": "code",
   "execution_count": null,
   "id": "966f4bf3",
   "metadata": {},
   "outputs": [],
   "source": []
  },
  {
   "cell_type": "markdown",
   "id": "dd90bdca",
   "metadata": {},
   "source": [
    "### 5. Use LaTex notation where possible"
   ]
  },
  {
   "cell_type": "code",
   "execution_count": null,
   "id": "f3dd4479",
   "metadata": {},
   "outputs": [],
   "source": []
  },
  {
   "cell_type": "markdown",
   "id": "d6288ffd",
   "metadata": {},
   "source": [
    "# =======================================================================================================\n",
    "# Question 5 (1st Set - 5) END\n",
    "# Question 5 (1st Set - 5) TO Question 5 (2nd Set - 8)\n",
    "# Question 5 (2nd Set - 8) START\n",
    "# ======================================================================================================="
   ]
  },
  {
   "cell_type": "markdown",
   "id": "76ba87bd",
   "metadata": {},
   "source": [
    "### 1. y = 0n + 1 and label the curve \"O(1)\""
   ]
  },
  {
   "cell_type": "code",
   "execution_count": null,
   "id": "8d796b49",
   "metadata": {},
   "outputs": [],
   "source": []
  },
  {
   "cell_type": "markdown",
   "id": "1f6e3285",
   "metadata": {},
   "source": [
    "### 2. y = log(n) and label the curve \"O(log n)\""
   ]
  },
  {
   "cell_type": "code",
   "execution_count": null,
   "id": "d4fe008f",
   "metadata": {},
   "outputs": [],
   "source": []
  },
  {
   "cell_type": "markdown",
   "id": "93868e2a",
   "metadata": {},
   "source": [
    "### 3. y = n and label the curve \"O(n)\""
   ]
  },
  {
   "cell_type": "code",
   "execution_count": null,
   "id": "ee94ce14",
   "metadata": {},
   "outputs": [],
   "source": []
  },
  {
   "cell_type": "markdown",
   "id": "f10ce591",
   "metadata": {},
   "source": [
    "### 4. y = n * log(n) and label it \"O(n log n)\""
   ]
  },
  {
   "cell_type": "code",
   "execution_count": null,
   "id": "e006e95b",
   "metadata": {},
   "outputs": [],
   "source": []
  },
  {
   "cell_type": "markdown",
   "id": "c03455ce",
   "metadata": {},
   "source": [
    "### 5. y = n^2 and label it \"O(n^2)\""
   ]
  },
  {
   "cell_type": "code",
   "execution_count": null,
   "id": "4b8b0eb0",
   "metadata": {},
   "outputs": [],
   "source": []
  },
  {
   "cell_type": "markdown",
   "id": "c9afb1c5",
   "metadata": {},
   "source": [
    "### 6. y = 2^n and label it \"O(2^n)\""
   ]
  },
  {
   "cell_type": "code",
   "execution_count": null,
   "id": "e8545a0b",
   "metadata": {},
   "outputs": [],
   "source": []
  },
  {
   "cell_type": "markdown",
   "id": "50a437b8",
   "metadata": {},
   "source": [
    "### 7. y = n! and label it \"O(n!)\""
   ]
  },
  {
   "cell_type": "code",
   "execution_count": null,
   "id": "df2b5843",
   "metadata": {},
   "outputs": [],
   "source": []
  },
  {
   "cell_type": "markdown",
   "id": "7b06eb2e",
   "metadata": {},
   "source": [
    "### 8. y = n^n and label it \"O(n^n)\""
   ]
  },
  {
   "cell_type": "code",
   "execution_count": null,
   "id": "63de2f22",
   "metadata": {},
   "outputs": [],
   "source": []
  },
  {
   "cell_type": "markdown",
   "id": "d317e1da",
   "metadata": {},
   "source": [
    "# =======================================================================================================\n",
    "# Question 5 (2nd Set - 8) END\n",
    "# ======================================================================================================="
   ]
  }
 ],
 "metadata": {
  "kernelspec": {
   "display_name": "Python 3 (ipykernel)",
   "language": "python",
   "name": "python3"
  },
  "language_info": {
   "codemirror_mode": {
    "name": "ipython",
    "version": 3
   },
   "file_extension": ".py",
   "mimetype": "text/x-python",
   "name": "python",
   "nbconvert_exporter": "python",
   "pygments_lexer": "ipython3",
   "version": "3.9.13"
  }
 },
 "nbformat": 4,
 "nbformat_minor": 5
}
